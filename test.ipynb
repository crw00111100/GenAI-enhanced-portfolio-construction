{
 "cells": [
  {
   "cell_type": "code",
   "execution_count": 2,
   "id": "0c6f1aef",
   "metadata": {},
   "outputs": [],
   "source": [
    "from openai import OpenAI\n",
    "import anthropic\n",
    "from google import genai\n",
    "from google.genai import types\n",
    "import os\n",
    "\n",
    "import numpy as np\n",
    "import pandas as pd\n",
    "import yfinance as yf\n",
    "import matplotlib.pyplot as plt\n",
    "import plotly.graph_objects as go\n",
    "import plotly.express as px\n",
    "\n",
    "from collections import Counter\n",
    "from datetime import datetime, timedelta\n",
    "\n",
    "%matplotlib inline"
   ]
  },
  {
   "cell_type": "code",
   "execution_count": 3,
   "id": "70ce3e6c",
   "metadata": {},
   "outputs": [],
   "source": [
    "# gpt models\n",
    "with open('api_key/openai_api_key.txt', 'r', encoding='utf-8') as f:\n",
    "    API_KEY = f.readline()\n",
    "os.environ['OPENAI_API_KEY'] =API_KEY\n",
    "client = OpenAI(\n",
    "  api_key=os.environ['OPENAI_API_KEY']\n",
    ") "
   ]
  },
  {
   "cell_type": "code",
   "execution_count": 4,
   "id": "f2d14f29",
   "metadata": {},
   "outputs": [],
   "source": [
    "# OpenAI API parameters\n",
    "max_tokens = 1024\n",
    "n = 1\n",
    "stop = None\n",
    "temperature = 0.5"
   ]
  },
  {
   "cell_type": "code",
   "execution_count": 5,
   "id": "947e9748",
   "metadata": {},
   "outputs": [],
   "source": [
    "default_params = {\n",
    "    \"max_tokens\": max_tokens,\n",
    "    \"temperature\": temperature,\n",
    "}"
   ]
  },
  {
   "cell_type": "code",
   "execution_count": 6,
   "id": "817ff68f",
   "metadata": {},
   "outputs": [],
   "source": [
    "sector_name = 'industrials'\n",
    "sector_name_full = 'Industrials'\n",
    "sector_ticker = '^SP500-20'\n",
    "full_ticker = 'SP500-20'"
   ]
  },
  {
   "cell_type": "code",
   "execution_count": 9,
   "id": "fea3fb81",
   "metadata": {},
   "outputs": [
    {
     "data": {
      "text/plain": [
       "10      ADP\n",
       "23     ALLE\n",
       "27      AME\n",
       "35      AOS\n",
       "47     AXON\n",
       "       ... \n",
       "469    VLTO\n",
       "471    VRSK\n",
       "478     WAB\n",
       "487      WM\n",
       "498     XYL\n",
       "Name: Symbol, Length: 78, dtype: object"
      ]
     },
     "execution_count": 9,
     "metadata": {},
     "output_type": "execute_result"
    }
   ],
   "source": [
    "sp500_df = pd.read_csv('SP500.csv')  \n",
    "companies = sp500_df[sp500_df['GICS Sector'] == sector_name_full]['Symbol']\n",
    "companies"
   ]
  },
  {
   "cell_type": "code",
   "execution_count": 7,
   "id": "6b157175",
   "metadata": {},
   "outputs": [],
   "source": [
    "model = \"gpt-4.1\""
   ]
  },
  {
   "cell_type": "code",
   "execution_count": 11,
   "id": "bc044209",
   "metadata": {},
   "outputs": [],
   "source": [
    "def generate_stocks_by_sector(sector_name, full_ticker, n_count, valid_tickers, recount=False):\n",
    "       \n",
    "    prompt1 = f\"Using a range of investing principles taken from leading funds, create a theoretical fund comprising of at least X stocks (mention their tickers) from the {full_ticker} {sector_name} sector with the goal to outperform the {full_ticker} {sector_name} sector\"\n",
    "\n",
    "    stock_counter = Counter()\n",
    "\n",
    "    num_stocks_per_iter = []\n",
    "\n",
    "    for i in range(n_count):\n",
    "        response1 = client.chat.completions.create(\n",
    "            model=model,\n",
    "            messages=[\n",
    "            {\"role\": \"system\", \"content\": \"You are a helpful  assistant.\"},\n",
    "            {\"role\": \"user\", \"content\": prompt1},\n",
    "            ],\n",
    "            n=n,\n",
    "            stop=stop,\n",
    "            **(default_params if model != \"o4-mini\" else {})\n",
    "        )\n",
    "\n",
    "        coutput1 = response1.choices[0].message.content\n",
    "\n",
    "        prompt2 = 'Extract only the ticker symbols of the stocks comprising the fund from the previous response:- \"{input}\". In your response to this prompt, list only the ticker symbols separated by spaces.'.format(input=coutput1)\n",
    "\n",
    "        response2 = client.chat.completions.create(\n",
    "            model=model,\n",
    "            messages=[\n",
    "            {\"role\": \"system\", \"content\": \"You are a helpful  assistant.\"},\n",
    "            {\"role\": \"user\", \"content\": prompt2},\n",
    "            ],\n",
    "            n=n,\n",
    "            stop=stop,\n",
    "            **(default_params if model != \"o4-mini\" else {})\n",
    "        )\n",
    "\n",
    "        coutput2 = response2.choices[0].message.content\n",
    "\n",
    "        stock_tickers = coutput2.split()\n",
    "\n",
    "        # stock_tickers = [ticker.replace(\".\", \"-\") for ticker in stock_tickers]\n",
    "\n",
    "        stock_tickers = [\"META\" if ticker == \"FB\" else ticker for ticker in stock_tickers]\n",
    "        print(stock_tickers)\n",
    "\n",
    "        num_stocks_per_iter.append(len(stock_tickers))\n",
    "        print(num_stocks_per_iter)\n",
    "\n",
    "        stock_counter.update(stock_tickers)\n",
    "        print(stock_counter)\n",
    "\n",
    "    average = round(np.mean(num_stocks_per_iter))\n",
    "    # Get a list of all the stocks, sorted by frequency (from most to least common)\n",
    "    sorted_stocks = [stock for stock, _ in stock_counter.most_common()]\n",
    "\n",
    "    valid_tickers = set(valid_tickers)\n",
    "\n",
    "    valid_most_common_stocks = []\n",
    "\n",
    "    for stock in sorted_stocks:\n",
    "        # If the stock is valid and we still need more stocks to reach the number 15\n",
    "        if stock in valid_tickers and len(valid_most_common_stocks) < 15:\n",
    "            valid_most_common_stocks.append(stock)\n",
    "        elif stock not in valid_tickers:\n",
    "            print(f\"The stock {stock} is not in the valid list of this S&P 500 sector and hence is being discarded.\")\n",
    "\n",
    "    if len(valid_most_common_stocks) < 15:\n",
    "        print(\"There are not enough valid stocks to reach the desired number of 15 stocks.\")\n",
    "\n",
    "    print(\"The valid most common stocks are: \", valid_most_common_stocks)\n",
    "\n"
   ]
  },
  {
   "cell_type": "code",
   "execution_count": 12,
   "id": "57992cd4",
   "metadata": {},
   "outputs": [
    {
     "name": "stdout",
     "output_type": "stream",
     "text": [
      "['HON', 'UNP', 'CAT', 'DE', 'WM', 'LMT', 'ITW', 'ETN', 'CSX', 'PH']\n",
      "[10]\n",
      "Counter({'HON': 1, 'UNP': 1, 'CAT': 1, 'DE': 1, 'WM': 1, 'LMT': 1, 'ITW': 1, 'ETN': 1, 'CSX': 1, 'PH': 1})\n",
      "['HON', 'UNP', 'LMT', 'CAT', 'DE', 'WM', 'PH', 'CSX', 'UPS', 'ITW', 'CTAS', 'FDX', 'EMR', 'NOC', 'CARR']\n",
      "[10, 15]\n",
      "Counter({'HON': 2, 'UNP': 2, 'CAT': 2, 'DE': 2, 'WM': 2, 'LMT': 2, 'ITW': 2, 'CSX': 2, 'PH': 2, 'ETN': 1, 'UPS': 1, 'CTAS': 1, 'FDX': 1, 'EMR': 1, 'NOC': 1, 'CARR': 1})\n",
      "['UNP', 'ETN', 'LMT', 'DE', 'ITW', 'FAST', 'WM', 'RTX', 'PH', 'CARR']\n",
      "[10, 15, 10]\n",
      "Counter({'UNP': 3, 'DE': 3, 'WM': 3, 'LMT': 3, 'ITW': 3, 'PH': 3, 'HON': 2, 'CAT': 2, 'ETN': 2, 'CSX': 2, 'CARR': 2, 'UPS': 1, 'CTAS': 1, 'FDX': 1, 'EMR': 1, 'NOC': 1, 'FAST': 1, 'RTX': 1})\n",
      "['HON', 'UNP', 'LMT', 'CARR', 'ETN', 'UPS', 'ROP', 'PH']\n",
      "[10, 15, 10, 8]\n",
      "Counter({'UNP': 4, 'LMT': 4, 'PH': 4, 'HON': 3, 'DE': 3, 'WM': 3, 'ITW': 3, 'ETN': 3, 'CARR': 3, 'CAT': 2, 'CSX': 2, 'UPS': 2, 'CTAS': 1, 'FDX': 1, 'EMR': 1, 'NOC': 1, 'FAST': 1, 'RTX': 1, 'ROP': 1})\n",
      "['UNP', 'HON', 'GE', 'UPS', 'RTX', 'CAT', 'BA', 'LMT', 'DE', 'NOC', 'GD', 'ETN', 'CSX', 'ITW', 'EMR', 'PH', 'MMM', 'FDX', 'ROK', 'PCAR']\n",
      "[10, 15, 10, 8, 20]\n",
      "Counter({'UNP': 5, 'LMT': 5, 'PH': 5, 'HON': 4, 'DE': 4, 'ITW': 4, 'ETN': 4, 'CAT': 3, 'WM': 3, 'CSX': 3, 'UPS': 3, 'CARR': 3, 'FDX': 2, 'EMR': 2, 'NOC': 2, 'RTX': 2, 'CTAS': 1, 'FAST': 1, 'ROP': 1, 'GE': 1, 'BA': 1, 'GD': 1, 'MMM': 1, 'ROK': 1, 'PCAR': 1})\n",
      "['UNP', 'RTX', 'CAT', 'HON', 'DE', 'ODFL', 'PH', 'ROK', 'CSX', 'WM']\n",
      "[10, 15, 10, 8, 20, 10]\n",
      "Counter({'UNP': 6, 'PH': 6, 'HON': 5, 'DE': 5, 'LMT': 5, 'CAT': 4, 'WM': 4, 'ITW': 4, 'ETN': 4, 'CSX': 4, 'UPS': 3, 'CARR': 3, 'RTX': 3, 'FDX': 2, 'EMR': 2, 'NOC': 2, 'ROK': 2, 'CTAS': 1, 'FAST': 1, 'ROP': 1, 'GE': 1, 'BA': 1, 'GD': 1, 'MMM': 1, 'PCAR': 1, 'ODFL': 1})\n",
      "['UNP', 'HON', 'LMT', 'ETN', 'PH', 'CSX', 'ROP', 'CAT', 'GE', 'WM']\n",
      "[10, 15, 10, 8, 20, 10, 10]\n",
      "Counter({'UNP': 7, 'PH': 7, 'HON': 6, 'LMT': 6, 'CAT': 5, 'DE': 5, 'WM': 5, 'ETN': 5, 'CSX': 5, 'ITW': 4, 'UPS': 3, 'CARR': 3, 'RTX': 3, 'FDX': 2, 'EMR': 2, 'NOC': 2, 'ROP': 2, 'GE': 2, 'ROK': 2, 'CTAS': 1, 'FAST': 1, 'BA': 1, 'GD': 1, 'MMM': 1, 'PCAR': 1, 'ODFL': 1})\n",
      "['HON', 'LMT', 'UNP', 'RTX', 'CARR', 'ETN', 'ROP', 'PH', 'DE', 'WM']\n",
      "[10, 15, 10, 8, 20, 10, 10, 10]\n",
      "Counter({'UNP': 8, 'PH': 8, 'HON': 7, 'LMT': 7, 'DE': 6, 'WM': 6, 'ETN': 6, 'CAT': 5, 'CSX': 5, 'ITW': 4, 'CARR': 4, 'RTX': 4, 'UPS': 3, 'ROP': 3, 'FDX': 2, 'EMR': 2, 'NOC': 2, 'GE': 2, 'ROK': 2, 'CTAS': 1, 'FAST': 1, 'BA': 1, 'GD': 1, 'MMM': 1, 'PCAR': 1, 'ODFL': 1})\n",
      "['UNP', 'HON', 'CAT', 'WM', 'ETN', 'PH', 'TDG', 'LMT', 'DE', 'ITW']\n",
      "[10, 15, 10, 8, 20, 10, 10, 10, 10]\n",
      "Counter({'UNP': 9, 'PH': 9, 'HON': 8, 'LMT': 8, 'DE': 7, 'WM': 7, 'ETN': 7, 'CAT': 6, 'ITW': 5, 'CSX': 5, 'CARR': 4, 'RTX': 4, 'UPS': 3, 'ROP': 3, 'FDX': 2, 'EMR': 2, 'NOC': 2, 'GE': 2, 'ROK': 2, 'CTAS': 1, 'FAST': 1, 'BA': 1, 'GD': 1, 'MMM': 1, 'PCAR': 1, 'ODFL': 1, 'TDG': 1})\n",
      "['UNP', 'HON', 'CAT', 'RTX', 'DE', 'PH', 'CSX', 'ROK']\n",
      "[10, 15, 10, 8, 20, 10, 10, 10, 10, 8]\n",
      "Counter({'UNP': 10, 'PH': 10, 'HON': 9, 'DE': 8, 'LMT': 8, 'CAT': 7, 'WM': 7, 'ETN': 7, 'CSX': 6, 'ITW': 5, 'RTX': 5, 'CARR': 4, 'UPS': 3, 'ROP': 3, 'ROK': 3, 'FDX': 2, 'EMR': 2, 'NOC': 2, 'GE': 2, 'CTAS': 1, 'FAST': 1, 'BA': 1, 'GD': 1, 'MMM': 1, 'PCAR': 1, 'ODFL': 1, 'TDG': 1})\n",
      "The stock ROP is not in the valid list of this S&P 500 sector and hence is being discarded.\n",
      "The valid most common stocks are:  ['UNP', 'PH', 'HON', 'DE', 'LMT', 'CAT', 'WM', 'ETN', 'CSX', 'ITW', 'RTX', 'CARR', 'UPS', 'ROK', 'FDX']\n",
      "Processed  sector industrials\n"
     ]
    }
   ],
   "source": [
    "generate_stocks_by_sector(sector_name, full_ticker, 10, companies)\n",
    "print(f'Processed  sector {sector_name}')"
   ]
  },
  {
   "cell_type": "code",
   "execution_count": 13,
   "id": "56874c51",
   "metadata": {},
   "outputs": [],
   "source": [
    "sector_name = 'energy'\n",
    "sector_name_full = 'Energy'\n",
    "sector_ticker = '^GSPE'\n",
    "full_ticker = 'SP500-10'"
   ]
  },
  {
   "cell_type": "code",
   "execution_count": 14,
   "id": "e7a17b51",
   "metadata": {},
   "outputs": [
    {
     "name": "stdout",
     "output_type": "stream",
     "text": [
      "['XOM', 'CVX', 'COP', 'EOG', 'SLB', 'MPC', 'PSX', 'VLO', 'OXY', 'HAL']\n",
      "[10]\n",
      "Counter({'XOM': 1, 'CVX': 1, 'COP': 1, 'EOG': 1, 'SLB': 1, 'MPC': 1, 'PSX': 1, 'VLO': 1, 'OXY': 1, 'HAL': 1})\n",
      "['XOM', 'CVX', 'COP', 'EOG', 'SLB', 'WMB', 'MPC']\n",
      "[10, 7]\n",
      "Counter({'XOM': 2, 'CVX': 2, 'COP': 2, 'EOG': 2, 'SLB': 2, 'MPC': 2, 'PSX': 1, 'VLO': 1, 'OXY': 1, 'HAL': 1, 'WMB': 1})\n",
      "['XOM', 'CVX', 'COP', 'EOG', 'SLB', 'MPC', 'WMB', 'PSX', 'PXD']\n",
      "[10, 7, 9]\n",
      "Counter({'XOM': 3, 'CVX': 3, 'COP': 3, 'EOG': 3, 'SLB': 3, 'MPC': 3, 'PSX': 2, 'WMB': 2, 'VLO': 1, 'OXY': 1, 'HAL': 1, 'PXD': 1})\n",
      "['XOM', 'CVX', 'SLB', 'EOG', 'COP', 'PSX', 'HAL', 'OXY']\n",
      "[10, 7, 9, 8]\n",
      "Counter({'XOM': 4, 'CVX': 4, 'COP': 4, 'EOG': 4, 'SLB': 4, 'MPC': 3, 'PSX': 3, 'OXY': 2, 'HAL': 2, 'WMB': 2, 'VLO': 1, 'PXD': 1})\n",
      "['XOM', 'COP', 'EOG', 'MPC', 'WMB', 'SLB']\n",
      "[10, 7, 9, 8, 6]\n",
      "Counter({'XOM': 5, 'COP': 5, 'EOG': 5, 'SLB': 5, 'CVX': 4, 'MPC': 4, 'PSX': 3, 'WMB': 3, 'OXY': 2, 'HAL': 2, 'VLO': 1, 'PXD': 1})\n",
      "['XOM', 'EOG', 'MPC', 'SLB', 'PSX', 'COP', 'BKR']\n",
      "[10, 7, 9, 8, 6, 7]\n",
      "Counter({'XOM': 6, 'COP': 6, 'EOG': 6, 'SLB': 6, 'MPC': 5, 'CVX': 4, 'PSX': 4, 'WMB': 3, 'OXY': 2, 'HAL': 2, 'VLO': 1, 'PXD': 1, 'BKR': 1})\n",
      "['XOM', 'EOG', 'MPC', 'SLB', 'PSX']\n",
      "[10, 7, 9, 8, 6, 7, 5]\n",
      "Counter({'XOM': 7, 'EOG': 7, 'SLB': 7, 'COP': 6, 'MPC': 6, 'PSX': 5, 'CVX': 4, 'WMB': 3, 'OXY': 2, 'HAL': 2, 'VLO': 1, 'PXD': 1, 'BKR': 1})\n",
      "['XOM', 'CVX', 'COP', 'EOG', 'SLB', 'PXD', 'MPC', 'PSX', 'WMB', 'BKR']\n",
      "[10, 7, 9, 8, 6, 7, 5, 10]\n",
      "Counter({'XOM': 8, 'EOG': 8, 'SLB': 8, 'COP': 7, 'MPC': 7, 'PSX': 6, 'CVX': 5, 'WMB': 4, 'OXY': 2, 'HAL': 2, 'PXD': 2, 'BKR': 2, 'VLO': 1})\n",
      "['XOM', 'CVX', 'COP', 'EOG', 'SLB', 'MPC', 'PXD', 'PSX', 'OXY', 'WMB']\n",
      "[10, 7, 9, 8, 6, 7, 5, 10, 10]\n",
      "Counter({'XOM': 9, 'EOG': 9, 'SLB': 9, 'COP': 8, 'MPC': 8, 'PSX': 7, 'CVX': 6, 'WMB': 5, 'OXY': 3, 'PXD': 3, 'HAL': 2, 'BKR': 2, 'VLO': 1})\n",
      "['XOM', 'COP', 'EOG', 'MPC', 'WMB', 'SLB', 'VLO', 'OKE', 'PSX', 'HAL']\n",
      "[10, 7, 9, 8, 6, 7, 5, 10, 10, 10]\n",
      "Counter({'XOM': 10, 'EOG': 10, 'SLB': 10, 'COP': 9, 'MPC': 9, 'PSX': 8, 'CVX': 6, 'WMB': 6, 'OXY': 3, 'HAL': 3, 'PXD': 3, 'VLO': 2, 'BKR': 2, 'OKE': 1})\n",
      "The stock XOM is not in the valid list of this S&P 500 sector and hence is being discarded.\n",
      "The stock EOG is not in the valid list of this S&P 500 sector and hence is being discarded.\n",
      "The stock SLB is not in the valid list of this S&P 500 sector and hence is being discarded.\n",
      "The stock COP is not in the valid list of this S&P 500 sector and hence is being discarded.\n",
      "The stock MPC is not in the valid list of this S&P 500 sector and hence is being discarded.\n",
      "The stock PSX is not in the valid list of this S&P 500 sector and hence is being discarded.\n",
      "The stock CVX is not in the valid list of this S&P 500 sector and hence is being discarded.\n",
      "The stock WMB is not in the valid list of this S&P 500 sector and hence is being discarded.\n",
      "The stock OXY is not in the valid list of this S&P 500 sector and hence is being discarded.\n",
      "The stock HAL is not in the valid list of this S&P 500 sector and hence is being discarded.\n",
      "The stock PXD is not in the valid list of this S&P 500 sector and hence is being discarded.\n",
      "The stock VLO is not in the valid list of this S&P 500 sector and hence is being discarded.\n",
      "The stock BKR is not in the valid list of this S&P 500 sector and hence is being discarded.\n",
      "The stock OKE is not in the valid list of this S&P 500 sector and hence is being discarded.\n",
      "There are not enough valid stocks to reach the desired number of 15 stocks.\n",
      "The valid most common stocks are:  []\n",
      "Processed  sector energy\n"
     ]
    }
   ],
   "source": [
    "generate_stocks_by_sector(sector_name, full_ticker, 10, companies)\n",
    "print(f'Processed  sector {sector_name}')"
   ]
  }
 ],
 "metadata": {
  "kernelspec": {
   "display_name": "base",
   "language": "python",
   "name": "python3"
  },
  "language_info": {
   "codemirror_mode": {
    "name": "ipython",
    "version": 3
   },
   "file_extension": ".py",
   "mimetype": "text/x-python",
   "name": "python",
   "nbconvert_exporter": "python",
   "pygments_lexer": "ipython3",
   "version": "3.11.5"
  }
 },
 "nbformat": 4,
 "nbformat_minor": 5
}
